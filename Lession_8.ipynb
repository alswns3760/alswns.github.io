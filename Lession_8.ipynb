{
  "nbformat": 4,
  "nbformat_minor": 0,
  "metadata": {
    "colab": {
      "provenance": [],
      "authorship_tag": "ABX9TyMAXDud0phV+dvJjq5Jj3Ix",
      "include_colab_link": true
    },
    "kernelspec": {
      "name": "python3",
      "display_name": "Python 3"
    },
    "language_info": {
      "name": "python"
    }
  },
  "cells": [
    {
      "cell_type": "markdown",
      "metadata": {
        "id": "view-in-github",
        "colab_type": "text"
      },
      "source": [
        "<a href=\"https://colab.research.google.com/github/alswns3760/alswns3760.github.io/blob/master/Lession_8.ipynb\" target=\"_parent\"><img src=\"https://colab.research.google.com/assets/colab-badge.svg\" alt=\"Open In Colab\"/></a>"
      ]
    },
    {
      "cell_type": "code",
      "execution_count": 1,
      "metadata": {
        "colab": {
          "base_uri": "https://localhost:8080/"
        },
        "id": "lQugLFd5YwkQ",
        "outputId": "2ac8e0b2-721f-4ad6-b477-e16a9e0a3f6c"
      },
      "outputs": [
        {
          "output_type": "stream",
          "name": "stdout",
          "text": [
            "100과 200의 plus()함수 결과는  300\n"
          ]
        }
      ],
      "source": [
        "def plus(v1, v2) :\n",
        "\n",
        "    result = 0\n",
        "    result = v1 + v2\n",
        "\n",
        "    return result\n",
        "\n",
        "hap = 0\n",
        "\n",
        "hap = plus(100,200)\n",
        "print(\"100과 200의 plus()함수 결과는 \",hap)"
      ]
    }
  ]
}